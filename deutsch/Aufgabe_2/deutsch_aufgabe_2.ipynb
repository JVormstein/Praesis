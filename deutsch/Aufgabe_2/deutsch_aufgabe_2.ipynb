{
 "cells": [
  {
   "cell_type": "markdown",
   "id": "a67cd6b3-e5e6-4120-a134-fa971b152ad8",
   "metadata": {},
   "source": [
    "## Analyse Aufgabe 2\n",
    "\n",
    "---\n",
    "\n",
    "### Aufgabenstellung\n",
    "Für Aufgabe 2 musste man mehrere eigene Quellen für politische Informationen nach ihrer subjektiven Glaubwürdigkeit und der eigenen Nutzungshäufigkeit ordnen.\n",
    "\n",
    "*Hier ein schöneres Beispiel:*\n",
    "![Deutsch.png](Deutsch.png)"
   ]
  },
  {
   "cell_type": "markdown",
   "id": "eb00818a-7ae4-4bf9-b06d-acdd6a7f14bb",
   "metadata": {},
   "source": [
    "Durch Betrachtung des Bildes als 2 Dimensionales Koordinatensystem, konnte jedem Wort ein Wert von `Nutzung` und `Vertrauem` zugeordnet werden.\n",
    "Durch Verwendung eines kleinen Programms konnte man diese Zahlen dann für alle Aufgaben notieren:"
   ]
  }
 ],
 "metadata": {
  "kernelspec": {
   "display_name": "Python 3 (ipykernel)",
   "language": "python",
   "name": "python3"
  },
  "language_info": {
   "codemirror_mode": {
    "name": "ipython",
    "version": 3
   },
   "file_extension": ".py",
   "mimetype": "text/x-python",
   "name": "python",
   "nbconvert_exporter": "python",
   "pygments_lexer": "ipython3",
   "version": "3.8.10"
  }
 },
 "nbformat": 4,
 "nbformat_minor": 5
}
