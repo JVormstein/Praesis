{
 "cells": [
  {
   "cell_type": "markdown",
   "id": "a67cd6b3-e5e6-4120-a134-fa971b152ad8",
   "metadata": {},
   "source": [
    "## Analyse Aufgabe 2\n",
    "\n",
    "---\n",
    "\n",
    "### Aufgabenstellung\n",
    "Für Aufgabe 2 musste man mehrere eigene Quellen für politische Informationen nach ihrer subjektiven Glaubwürdigkeit und der eigenen Nutzungshäufigkeit ordnen.\n",
    "\n",
    "*Hier ein schöneres Beispiel:*"
   ]
  },
  {
   "cell_type": "code",
   "execution_count": null,
   "id": "99be970f-cdf4-4d44-8324-f2726a0e9800",
   "metadata": {},
   "outputs": [],
   "source": [
    "from IPython.display import IFrame\n",
    "IFrame(\"https://github.com/user/first.pdf\", width=900, height=800)"
   ]
  }
 ],
 "metadata": {
  "kernelspec": {
   "display_name": "Python 3 (ipykernel)",
   "language": "python",
   "name": "python3"
  },
  "language_info": {
   "codemirror_mode": {
    "name": "ipython",
    "version": 3
   },
   "file_extension": ".py",
   "mimetype": "text/x-python",
   "name": "python",
   "nbconvert_exporter": "python",
   "pygments_lexer": "ipython3",
   "version": "3.8.10"
  }
 },
 "nbformat": 4,
 "nbformat_minor": 5
}
